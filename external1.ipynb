{
  "nbformat": 4,
  "nbformat_minor": 0,
  "metadata": {
    "colab": {
      "provenance": [],
      "authorship_tag": "ABX9TyOxOUyc8GrjpMvZuDVhgJf8",
      "include_colab_link": true
    },
    "kernelspec": {
      "name": "python3",
      "display_name": "Python 3"
    },
    "language_info": {
      "name": "python"
    }
  },
  "cells": [
    {
      "cell_type": "markdown",
      "metadata": {
        "id": "view-in-github",
        "colab_type": "text"
      },
      "source": [
        "<a href=\"https://colab.research.google.com/github/vivekreddy04/160122729063/blob/main/external1.ipynb\" target=\"_parent\"><img src=\"https://colab.research.google.com/assets/colab-badge.svg\" alt=\"Open In Colab\"/></a>"
      ]
    },
    {
      "cell_type": "markdown",
      "source": [],
      "metadata": {
        "id": "WkTJ9ey3qsbc"
      }
    },
    {
      "cell_type": "code",
      "source": [],
      "metadata": {
        "id": "iwFj3DpJxpOu"
      },
      "execution_count": null,
      "outputs": []
    },
    {
      "cell_type": "code",
      "source": [
        "from collections import deque\n",
        "\n",
        "def bfs_solve(jug1_capacity, jug2_capacity, target):\n",
        "    visited = set()\n",
        "    path = []\n",
        "    q = deque()\n",
        "    q.append((0, 0))\n",
        "    while q:\n",
        "        state = q.popleft()\n",
        "        if state in visited:\n",
        "            continue\n",
        "\n",
        "        visited.add(state)\n",
        "\n",
        "\n",
        "        path.append(state)\n",
        "        jug1, jug2 = state\n",
        "\n",
        "        if jug1 == target or jug2 == target:\n",
        "            print_steps(path)\n",
        "            return True\n",
        "\n",
        "\n",
        "        possible_moves = [\n",
        "            (jug1_capacity, jug2),\n",
        "            (jug1, jug2_capacity),\n",
        "            (0, jug2),\n",
        "            (jug1, 0),\n",
        "            (jug1 - min(jug1, jug2_capacity - jug2), jug2 + min(jug1, jug2_capacity - jug2)),\n",
        "            (jug1 + min(jug2, jug1_capacity - jug1), jug2 - min(jug2, jug1_capacity - jug1))\n",
        "        ]\n",
        "\n",
        "        for move in possible_moves:\n",
        "            if move not in visited:\n",
        "                q.append(move)\n",
        "    print(\"No solution.\")\n",
        "    return False\n",
        "\n",
        "def print_steps(path):\n",
        "    for step in path:\n",
        "        print(f\"Jug1: {step[0]} liters, Jug2: {step[1]} liters\")\n",
        "\n",
        "\n",
        "jug1_capacity = int(input(\"Enter the capacity of Jug 1: \"))\n",
        "jug2_capacity = int(input(\"Enter the capacity of Jug 2: \"))\n",
        "target = int(input(\"Enter the target number of liters: \"))\n",
        "\n",
        "print(bfs_solve(jug1_capacity, jug2_capacity, target))"
      ],
      "metadata": {
        "colab": {
          "base_uri": "https://localhost:8080/"
        },
        "id": "95_1kP66Nsyf",
        "outputId": "2ca3515a-c19b-4762-f047-a2222a52ae42"
      },
      "execution_count": 18,
      "outputs": [
        {
          "output_type": "stream",
          "name": "stdout",
          "text": [
            "Enter the capacity of Jug 1: 7\n",
            "Enter the capacity of Jug 2: 3\n",
            "Enter the target number of liters: 5\n",
            "Jug1: 0 liters, Jug2: 0 liters\n",
            "Jug1: 7 liters, Jug2: 0 liters\n",
            "Jug1: 0 liters, Jug2: 3 liters\n",
            "Jug1: 7 liters, Jug2: 3 liters\n",
            "Jug1: 4 liters, Jug2: 3 liters\n",
            "Jug1: 3 liters, Jug2: 0 liters\n",
            "Jug1: 4 liters, Jug2: 0 liters\n",
            "Jug1: 3 liters, Jug2: 3 liters\n",
            "Jug1: 1 liters, Jug2: 3 liters\n",
            "Jug1: 6 liters, Jug2: 0 liters\n",
            "Jug1: 1 liters, Jug2: 0 liters\n",
            "Jug1: 6 liters, Jug2: 3 liters\n",
            "Jug1: 0 liters, Jug2: 1 liters\n",
            "Jug1: 7 liters, Jug2: 2 liters\n",
            "Jug1: 7 liters, Jug2: 1 liters\n",
            "Jug1: 0 liters, Jug2: 2 liters\n",
            "Jug1: 5 liters, Jug2: 3 liters\n",
            "True\n"
          ]
        }
      ]
    },
    {
      "cell_type": "markdown",
      "source": [],
      "metadata": {
        "id": "KzUdX4Chqsoj"
      }
    },
    {
      "cell_type": "markdown",
      "source": [],
      "metadata": {
        "id": "GIg-ss_Pqs1L"
      }
    },
    {
      "cell_type": "markdown",
      "source": [],
      "metadata": {
        "id": "uJo-ro1Fqs-r"
      }
    }
  ]
}